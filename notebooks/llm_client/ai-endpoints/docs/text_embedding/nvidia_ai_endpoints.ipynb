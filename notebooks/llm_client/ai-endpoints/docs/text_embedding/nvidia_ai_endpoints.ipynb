{
 "cells": [
  {
   "cell_type": "markdown",
   "metadata": {
    "id": "GDDVue_1cq6d"
   },
   "source": [
    "# NVIDIA AI Foundation Endpoints \n",
    "\n",
    "> [NVIDIA AI Foundation Endpoints](https://www.nvidia.com/en-us/ai-data-science/foundation-models/) give users easy access to NVIDIA hosted API endpoints for NVIDIA AI Foundation Models like Mixtral 8x7B, Llama 2, Stable Diffusion, etc. These models, hosted on the [NVIDIA NGC catalog](https://catalog.ngc.nvidia.com/ai-foundation-models), are optimized, tested, and hosted on the NVIDIA AI platform, making them fast and easy to evaluate, further customize, and seamlessly run at peak performance on any accelerated stack.\n",
    "> \n",
    "> With [NVIDIA AI Foundation Endpoints](https://www.nvidia.com/en-us/ai-data-science/foundation-models/), you can get quick results from a fully accelerated stack running on [NVIDIA DGX Cloud](https://www.nvidia.com/en-us/data-center/dgx-cloud/). Once customized, these models can be deployed anywhere with enterprise-grade security, stability, and support using [NVIDIA AI Enterprise](https://www.nvidia.com/en-us/data-center/products/ai-enterprise/).\n",
    "> \n",
    "> These models can be easily accessed via the [`langchain-nvidia-ai-endpoints`](https://pypi.org/project/langchain-nvidia-ai-endpoints/) package, as shown below.\n",
    "\n",
    "This example goes over how to use LangChain to interact with the supported [NVIDIA Retrieval QA Embedding Model](https://catalog.ngc.nvidia.com/orgs/nvidia/teams/ai-foundation/models/nvolve-40k) for [retrieval-augmented generation](https://developer.nvidia.com/blog/build-enterprise-retrieval-augmented-generation-apps-with-nvidia-retrieval-qa-embedding-model/) via the `NVIDIAEmbeddings` class.\n",
    "\n",
    "For more information on accessing the chat models through this api, check out the [ChatNVIDIA](../chat/nvidia_ai_endpoints) documentation."
   ]
  },
  {
   "cell_type": "markdown",
   "metadata": {},
   "source": [
    "## Installation"
   ]
  },
  {
   "cell_type": "code",
   "execution_count": 12,
   "metadata": {},
   "outputs": [],
   "source": [
    "# %pip install --upgrade --quiet  langchain-nvidia-ai-endpoints"
   ]
  },
  {
   "cell_type": "markdown",
   "metadata": {
    "id": "qKcxQMFTcwWi"
   },
   "source": [
    "## Setup\n",
    "\n",
    "**To get started:**\n",
    "\n",
    "1. Create a free account with the [NVIDIA NGC](https://catalog.ngc.nvidia.com/) service, which hosts AI solution catalogs, containers, models, etc.\n",
    "\n",
    "2. Navigate to `Catalog > AI Foundation Models > (Model with API endpoint)`.\n",
    "\n",
    "3. Select the `API` option and click `Generate Key`.\n",
    "\n",
    "4. Save the generated key as `NVIDIA_API_KEY`. From there, you should have access to the endpoints."
   ]
  },
  {
   "cell_type": "code",
   "execution_count": 13,
   "metadata": {
    "colab": {
     "base_uri": "https://localhost:8080/"
    },
    "id": "hoF41-tNczS3",
    "outputId": "7f2833dc-191c-4d73-b823-7b2745a93a2f"
   },
   "outputs": [],
   "source": [
    "import getpass\n",
    "import os\n",
    "\n",
    "if not os.environ.get(\"NVIDIA_API_KEY\", \"\").startswith(\"nvapi-\"):\n",
    "    nvapi_key = getpass.getpass(\"Enter your NVIDIA API key: \")\n",
    "    assert nvapi_key.startswith(\"nvapi-\"), f\"{nvapi_key[:5]}... is not a valid key\"\n",
    "    os.environ[\"NVIDIA_API_KEY\"] = nvapi_key"
   ]
  },
  {
   "cell_type": "code",
   "execution_count": 14,
   "metadata": {},
   "outputs": [
    {
     "data": {
      "text/plain": [
       "[Model(id='nvidia/embed-qa-4', model_type='embedding'),\n",
       " Model(id='snowflake/arctic-embed-l', model_type='embedding')]"
      ]
     },
     "execution_count": 14,
     "metadata": {},
     "output_type": "execute_result"
    }
   ],
   "source": [
    "from langchain_nvidia_ai_endpoints import NVIDIAEmbeddings\n",
    "NVIDIAEmbeddings.get_available_models()"
   ]
  },
  {
   "cell_type": "markdown",
   "metadata": {
    "id": "l185et2kc8pS"
   },
   "source": [
    "We should be able to see an embedding model among that list which can be used in conjunction with an LLM for effective RAG solutions. We can interface with this model pretty easily with the help of the `NVIDIAEmbeddings` model."
   ]
  },
  {
   "cell_type": "markdown",
   "metadata": {},
   "source": [
    "## Initialization\n",
    "\n",
    "The main requirement when initializing an embedding model is to provide the model name. An example is `nvolveqa_40k` below.\n",
    "\n",
    "For `nvovleqa_40k`, you can also specify the `model_type` as `passage` or `query`. When doing retrieval, you will get best results if you embed the source documents with the `passage` type and the user queries with the `query` type.\n",
    "\n",
    "If not provided, the `embed_query` method will default to the `query` type, and the `embed_documents` mehod will default to the `passage` type."
   ]
  },
  {
   "cell_type": "code",
   "execution_count": 15,
   "metadata": {
    "id": "hbXmJssPdIPX"
   },
   "outputs": [],
   "source": [
    "from langchain_nvidia_ai_endpoints import NVIDIAEmbeddings\n",
    "\n",
    "# embedder = NVIDIAEmbeddings(model=\"nvolveqa_40k\")\n",
    "# embedder = NVIDIAEmbeddings(model=\"ai-embed-qa-4\")\n",
    "# embedder = NVIDIAEmbeddings(model=\"snowflake/arctic-embed-l\")\n",
    "embedder = NVIDIAEmbeddings(model=\"nvidia/embed-qa-4\")"
   ]
  },
  {
   "cell_type": "markdown",
   "metadata": {
    "id": "SvQijbCwdLXB"
   },
   "source": [
    "This model is a fine-tuned E5-large model which supports the expected `Embeddings` methods including:\n",
    "\n",
    "- `embed_query`: Generate query embedding for a query sample.\n",
    "\n",
    "- `embed_documents`: Generate passage embeddings for a list of documents which you would like to search over.\n",
    "\n",
    "- `aembed_quey`/`embed_documents`: Asynchronous versions of the above."
   ]
  },
  {
   "cell_type": "markdown",
   "metadata": {
    "id": "pcDu3v4CbmWk"
   },
   "source": [
    "### **Similarity/Speed Test**\n",
    "\n",
    "The following is a quick test of the methods in terms of usage, format, and speed for the use case of embedding the following data points:\n",
    "\n",
    "**Queries:**\n",
    "\n",
    "- What's the weather like in Komchatka?\n",
    "\n",
    "- What kinds of food is Italy known for?\n",
    "\n",
    "- What's my name? I bet you don't remember...\n",
    "\n",
    "- What's the point of life anyways?\n",
    "\n",
    "- The point of life is to have fun :D\n",
    "\n",
    "**Documents:**\n",
    "\n",
    "- Komchatka's weather is cold, with long, severe winters.\n",
    "\n",
    "- Italy is famous for pasta, pizza, gelato, and espresso.\n",
    "\n",
    "- I can't recall personal names, only provide information.\n",
    "\n",
    "- Life's purpose varies, often seen as personal fulfillment.\n",
    "\n",
    "- Enjoying life's moments is indeed a wonderful approach."
   ]
  },
  {
   "cell_type": "markdown",
   "metadata": {
    "id": "xrmtRzgXdhMF"
   },
   "source": [
    "### Embedding Runtimes"
   ]
  },
  {
   "cell_type": "code",
   "execution_count": 16,
   "metadata": {
    "colab": {
     "base_uri": "https://localhost:8080/"
    },
    "id": "bUQM6OoObM_C",
    "outputId": "afbb1ea0-4f14-46b0-da42-25c5ae8eab2e"
   },
   "outputs": [
    {
     "name": "stdout",
     "output_type": "stream",
     "text": [
      "Single Query Embedding: \n",
      "\u001b[1mExecuted in 0.16 seconds.\u001b[0m\n",
      "Shape: (1024,)\n",
      "\n",
      "Sequential Embedding: \n",
      "\u001b[1mExecuted in 1.14 seconds.\u001b[0m\n",
      "Shape: (5, 1024)\n",
      "\n",
      "Batch Query Embedding: \n",
      "\u001b[1mExecuted in 0.26 seconds.\u001b[0m\n",
      "Shape: (5, 1024)\n"
     ]
    }
   ],
   "source": [
    "import time\n",
    "\n",
    "print(\"Single Query Embedding: \")\n",
    "s = time.perf_counter()\n",
    "q_embedding = embedder.embed_query(\"What's the weather like in Komchatka?\")\n",
    "elapsed = time.perf_counter() - s\n",
    "print(\"\\033[1m\" + f\"Executed in {elapsed:0.2f} seconds.\" + \"\\033[0m\")\n",
    "print(\"Shape:\", (len(q_embedding),))\n",
    "\n",
    "print(\"\\nSequential Embedding: \")\n",
    "s = time.perf_counter()\n",
    "q_embeddings = [\n",
    "    embedder.embed_query(\"What's the weather like in Komchatka?\"),\n",
    "    embedder.embed_query(\"What kinds of food is Italy known for?\"),\n",
    "    embedder.embed_query(\"What's my name? I bet you don't remember...\"),\n",
    "    embedder.embed_query(\"What's the point of life anyways?\"),\n",
    "    embedder.embed_query(\"The point of life is to have fun :D\"),\n",
    "]\n",
    "elapsed = time.perf_counter() - s\n",
    "print(\"\\033[1m\" + f\"Executed in {elapsed:0.2f} seconds.\" + \"\\033[0m\")\n",
    "print(\"Shape:\", (len(q_embeddings), len(q_embeddings[0])))\n",
    "\n",
    "print(\"\\nBatch Query Embedding: \")\n",
    "s = time.perf_counter()\n",
    "# To use the \"query\" mode, we have to add it as an instance arg\n",
    "embedder.model_type = \"query\"\n",
    "q_embeddings = embedder.embed_documents(\n",
    "    [\n",
    "        \"What's the weather like in Komchatka?\",\n",
    "        \"What kinds of food is Italy known for?\",\n",
    "        \"What's my name? I bet you don't remember...\",\n",
    "        \"What's the point of life anyways?\",\n",
    "        \"The point of life is to have fun :D\",\n",
    "    ]\n",
    ")\n",
    "elapsed = time.perf_counter() - s\n",
    "print(\"\\033[1m\" + f\"Executed in {elapsed:0.2f} seconds.\" + \"\\033[0m\")\n",
    "print(\"Shape:\", (len(q_embeddings), len(q_embeddings[0])))\n",
    "\n",
    "## Remember to reset the embedder afterwards or just create a new embedder instance\n",
    "embedder.model_type = None"
   ]
  },
  {
   "cell_type": "markdown",
   "metadata": {
    "id": "SfX00xRdbKDw"
   },
   "source": [
    "### Document Embedding"
   ]
  },
  {
   "cell_type": "code",
   "execution_count": 17,
   "metadata": {
    "colab": {
     "base_uri": "https://localhost:8080/"
    },
    "id": "o1vKyTx-O_vZ",
    "outputId": "a8d864a8-01e8-4431-ee8a-b466d8348bef"
   },
   "outputs": [
    {
     "name": "stdout",
     "output_type": "stream",
     "text": [
      "Single Document Embedding: \n",
      "\u001b[1mExecuted in 0.42 seconds.\u001b[0m\n",
      "Shape: (1024,)\n",
      "\n",
      "Batch Document Embedding: \n",
      "\u001b[1mExecuted in 0.32 seconds.\u001b[0m\n",
      "Shape: (5, 1024)\n"
     ]
    }
   ],
   "source": [
    "import time\n",
    "\n",
    "print(\"Single Document Embedding: \")\n",
    "s = time.perf_counter()\n",
    "d_embeddings = embedder.embed_documents(\n",
    "    [\n",
    "        \"Komchatka's weather is cold, with long, severe winters.\",\n",
    "    ]\n",
    ")\n",
    "elapsed = time.perf_counter() - s\n",
    "print(\"\\033[1m\" + f\"Executed in {elapsed:0.2f} seconds.\" + \"\\033[0m\")\n",
    "print(\"Shape:\", (len(q_embedding),))\n",
    "\n",
    "print(\"\\nBatch Document Embedding: \")\n",
    "s = time.perf_counter()\n",
    "d_embeddings = embedder.embed_documents(\n",
    "    [\n",
    "        \"Komchatka's weather is cold, with long, severe winters.\",\n",
    "        \"Italy is famous for pasta, pizza, gelato, and espresso.\",\n",
    "        \"I can't recall personal names, only provide information.\",\n",
    "        \"Life's purpose varies, often seen as personal fulfillment.\",\n",
    "        \"Enjoying life's moments is indeed a wonderful approach.\",\n",
    "    ]\n",
    ")\n",
    "elapsed = time.perf_counter() - s\n",
    "print(\"\\033[1m\" + f\"Executed in {elapsed:0.2f} seconds.\" + \"\\033[0m\")\n",
    "print(\"Shape:\", (len(q_embeddings), len(q_embeddings[0])))"
   ]
  },
  {
   "cell_type": "markdown",
   "metadata": {
    "id": "E6AilXxjdm1I"
   },
   "source": [
    "Now that we've generated our embeddings, we can do a simple similarity check on the results to see which documents would have triggered as reasonable answers in a retrieval task:"
   ]
  },
  {
   "cell_type": "code",
   "execution_count": 18,
   "metadata": {},
   "outputs": [
    {
     "name": "stdout",
     "output_type": "stream",
     "text": [
      "\u001b[33mWARNING: Running pip as the 'root' user can result in broken permissions and conflicting behaviour with the system package manager. It is recommended to use a virtual environment instead: https://pip.pypa.io/warnings/venv\u001b[0m\u001b[33m\n",
      "\u001b[0mNote: you may need to restart the kernel to use updated packages.\n"
     ]
    }
   ],
   "source": [
    "%pip install --upgrade --quiet  matplotlib scikit-learn"
   ]
  },
  {
   "cell_type": "code",
   "execution_count": 19,
   "metadata": {
    "colab": {
     "base_uri": "https://localhost:8080/",
     "height": 564
    },
    "id": "7szaiBBYCHQ-",
    "outputId": "86b6d2c4-6bee-4324-f7b1-3fcf2b940763"
   },
   "outputs": [
    {
     "data": {
      "image/png": "[encoded data removed]",
      "text/plain": [
       "<Figure size 800x600 with 2 Axes>"
      ]
     },
     "metadata": {},
     "output_type": "display_data"
    }
   ],
   "source": [
    "import matplotlib.pyplot as plt\n",
    "import numpy as np\n",
    "from sklearn.metrics.pairwise import cosine_similarity\n",
    "\n",
    "# Assuming embeddings1 and embeddings2 are your two sets of vectors\n",
    "# Compute the similarity matrix between embeddings1 and embeddings2\n",
    "cross_similarity_matrix = cosine_similarity(\n",
    "    np.array(q_embeddings),\n",
    "    np.array(d_embeddings),\n",
    ")\n",
    "\n",
    "# Plotting the cross-similarity matrix\n",
    "plt.figure(figsize=(8, 6))\n",
    "plt.imshow(cross_similarity_matrix, cmap=\"Greens\", interpolation=\"nearest\")\n",
    "plt.colorbar()\n",
    "plt.title(\"Cross-Similarity Matrix\")\n",
    "plt.xlabel(\"Query Embeddings\")\n",
    "plt.ylabel(\"Document Embeddings\")\n",
    "plt.grid(True)\n",
    "plt.show()"
   ]
  },
  {
   "cell_type": "markdown",
   "metadata": {
    "id": "K5sLkHWZcRF2"
   },
   "source": [
    "As a reminder, the queries and documents sent to our system were:\n",
    "\n",
    "**Queries:**\n",
    "\n",
    "- What's the weather like in Komchatka?\n",
    "\n",
    "- What kinds of food is Italy known for?\n",
    "\n",
    "- What's my name? I bet you don't remember...\n",
    "\n",
    "- What's the point of life anyways?\n",
    "\n",
    "- The point of life is to have fun :D\n",
    "\n",
    "**Documents:**\n",
    "\n",
    "- Komchatka's weather is cold, with long, severe winters.\n",
    "\n",
    "- Italy is famous for pasta, pizza, gelato, and espresso.\n",
    "\n",
    "- I can't recall personal names, only provide information.\n",
    "\n",
    "- Life's purpose varies, often seen as personal fulfillment.\n",
    "\n",
    "- Enjoying life's moments is indeed a wonderful approach."
   ]
  },
  {
   "cell_type": "markdown",
   "metadata": {
    "id": "RNIeY4N96v3B"
   },
   "source": [
    "## RAG Retrieval:\n",
    "\n",
    "The following is a repurposing of the initial example of the [LangChain Expression Language Retrieval Cookbook entry](\n",
    "https://python.langchain.com/docs/expression_language/cookbook/retrieval), but executed with the AI Foundation Models' [Mixtral 8x7B Instruct](https://catalog.ngc.nvidia.com/orgs/nvidia/teams/ai-foundation/models/mixtral-8x7b) and [NVIDIA Retrieval QA Embedding](https://catalog.ngc.nvidia.com/orgs/nvidia/teams/ai-foundation/models/nvolve-40k) models available in their playground environments. The subsequent examples in the cookbook also run as expected, and we encourage you to explore with these options.\n",
    "\n",
    "**TIP:** We would recommend using Mixtral for internal reasoning (i.e. instruction following for data extraction, tool selection, etc.) and Llama-Chat for a single final \"wrap-up by making a simple response that works for this user based on the history and context\" response."
   ]
  },
  {
   "cell_type": "code",
   "execution_count": 20,
   "metadata": {
    "id": "zn_zeRGP64DJ"
   },
   "outputs": [
    {
     "name": "stdout",
     "output_type": "stream",
     "text": [
      "\u001b[33mWARNING: Running pip as the 'root' user can result in broken permissions and conflicting behaviour with the system package manager. It is recommended to use a virtual environment instead: https://pip.pypa.io/warnings/venv\u001b[0m\u001b[33m\n",
      "\u001b[0mNote: you may need to restart the kernel to use updated packages.\n"
     ]
    }
   ],
   "source": [
    "%pip install --upgrade --quiet  langchain faiss-cpu tiktoken\n",
    "\n",
    "from operator import itemgetter\n",
    "\n",
    "from langchain_community.vectorstores import FAISS\n",
    "from langchain_core.output_parsers import StrOutputParser\n",
    "from langchain_core.prompts import ChatPromptTemplate\n",
    "from langchain_core.runnables import RunnablePassthrough\n",
    "from langchain_nvidia_ai_endpoints import ChatNVIDIA"
   ]
  },
  {
   "cell_type": "code",
   "execution_count": 21,
   "metadata": {
    "colab": {
     "base_uri": "https://localhost:8080/",
     "height": 36
    },
    "id": "zIXyr9Vd7CED",
    "outputId": "a8d36812-c3e0-4fd4-804a-4b5ba43948e5"
   },
   "outputs": [
    {
     "data": {
      "text/plain": [
       "'Based on the document provided, Harrison worked at Kensho.'"
      ]
     },
     "execution_count": 21,
     "metadata": {},
     "output_type": "execute_result"
    }
   ],
   "source": [
    "vectorstore = FAISS.from_texts(\n",
    "    [\"harrison worked at kensho\"],\n",
    "    embedding=embedder,\n",
    ")\n",
    "retriever = vectorstore.as_retriever()\n",
    "\n",
    "prompt = ChatPromptTemplate.from_messages(\n",
    "    [\n",
    "        (\n",
    "            \"system\",\n",
    "            \"Answer solely based on the following context:\\n<Documents>\\n{context}\\n</Documents>\",\n",
    "        ),\n",
    "        (\"user\", \"{question}\"),\n",
    "    ]\n",
    ")\n",
    "\n",
    "# model = ChatNVIDIA(model=\"mixtral_8x7b\")\n",
    "model = ChatNVIDIA(model=\"mixtral_8x7b\")\n",
    "\n",
    "chain = (\n",
    "    {\"context\": retriever, \"question\": RunnablePassthrough()}\n",
    "    | prompt\n",
    "    | model\n",
    "    | StrOutputParser()\n",
    ")\n",
    "\n",
    "chain.invoke(\"where did harrison work?\")"
   ]
  },
  {
   "cell_type": "code",
   "execution_count": 22,
   "metadata": {
    "colab": {
     "base_uri": "https://localhost:8080/",
     "height": 36
    },
    "id": "OuY62kJ28oNK",
    "outputId": "672ff6df-64d8-442b-9143-f69dbc09f763"
   },
   "outputs": [
    {
     "data": {
      "text/plain": [
       "'Harrison ha lavorato presso Kensho.\\n\\n(In English: Harrison worked at Kensho.)'"
      ]
     },
     "execution_count": 22,
     "metadata": {},
     "output_type": "execute_result"
    }
   ],
   "source": [
    "prompt = ChatPromptTemplate.from_messages(\n",
    "    [\n",
    "        (\n",
    "            \"system\",\n",
    "            \"Answer using information solely based on the following context:\\n<Documents>\\n{context}\\n</Documents>\"\n",
    "            \"\\nSpeak only in the following language: {language}\",\n",
    "        ),\n",
    "        (\"user\", \"{question}\"),\n",
    "    ]\n",
    ")\n",
    "\n",
    "chain = (\n",
    "    {\n",
    "        \"context\": itemgetter(\"question\") | retriever,\n",
    "        \"question\": itemgetter(\"question\"),\n",
    "        \"language\": itemgetter(\"language\"),\n",
    "    }\n",
    "    | prompt\n",
    "    | model\n",
    "    | StrOutputParser()\n",
    ")\n",
    "\n",
    "chain.invoke({\"question\": \"where did harrison work\", \"language\": \"italian\"})"
   ]
  }
 ],
 "metadata": {
  "colab": {
   "provenance": []
  },
  "kernelspec": {
   "display_name": "Python 3 (ipykernel)",
   "language": "python",
   "name": "python3"
  },
  "language_info": {
   "codemirror_mode": {
    "name": "ipython",
    "version": 3
   },
   "file_extension": ".py",
   "mimetype": "text/x-python",
   "name": "python",
   "nbconvert_exporter": "python",
   "pygments_lexer": "ipython3",
   "version": "3.11.8"
  }
 },
 "nbformat": 4,
 "nbformat_minor": 4
}
